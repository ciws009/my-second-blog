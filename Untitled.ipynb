{
 "cells": [
  {
   "cell_type": "code",
   "execution_count": 2,
   "metadata": {},
   "outputs": [],
   "source": [
    "import MeCab"
   ]
  },
  {
   "cell_type": "code",
   "execution_count": 3,
   "metadata": {},
   "outputs": [],
   "source": [
    "text = \"引数にファイルを与えると, そのファイルが解析対象となります。 また, -o オプションにて, 別のファイルに結果を出力することも可能です。\""
   ]
  },
  {
   "cell_type": "code",
   "execution_count": 4,
   "metadata": {},
   "outputs": [],
   "source": [
    "m = MeCab.Tagger()\n",
    "m1 = m.parse(text)"
   ]
  },
  {
   "cell_type": "code",
   "execution_count": 5,
   "metadata": {},
   "outputs": [
    {
     "name": "stdout",
     "output_type": "stream",
     "text": [
      "引数\tヒキスー\tヒキスウ\t引数\t名詞-普通名詞-一般\t\t\t3\n",
      "に\tニ\tニ\tに\t助詞-格助詞\t\t\t\n",
      "ファイル\tファイル\tファイル\tファイル-file\t名詞-普通名詞-サ変可能\t\t\t1\n",
      "を\tオ\tヲ\tを\t助詞-格助詞\t\t\t\n",
      "与える\tアタエル\tアタエル\t与える\t動詞-一般\t下一段-ア行\t終止形-一般\t0\n",
      "と\tト\tト\tと\t助詞-接続助詞\t\t\t\n",
      ",\t,\t,\t,\t記号-一般\t\t\t0\n",
      "その\tソノ\tソノ\t其の\t連体詞\t\t\t0\n",
      "ファイル\tファイル\tファイル\tファイル-file\t名詞-普通名詞-サ変可能\t\t\t1\n",
      "が\tガ\tガ\tが\t助詞-格助詞\t\t\t\n",
      "解析\tカイセキ\tカイセキ\t解析\t名詞-普通名詞-サ変可能\t\t\t0\n",
      "対象\tタイショー\tタイショウ\t対象\t名詞-普通名詞-一般\t\t\t0\n",
      "と\tト\tト\tと\t助詞-格助詞\t\t\t\n",
      "なり\tナリ\tナル\t成る\t動詞-非自立可能\t五段-ラ行\t連用形-一般\t1\n",
      "ます\tマス\tマス\tます\t助動詞\t助動詞-マス\t終止形-一般\t\n",
      "。\t\t\t。\t補助記号-句点\t\t\t\n",
      "また\tマタ\tマタ\t又\t接続詞\t\t\t0\n",
      ",\t,\t,\t,\t記号-一般\t\t\t0\n",
      "-\t-\t-\t-\t記号-一般\t\t\t0\n",
      "o\to\to\to\t名詞-普通名詞-一般\t\t\t0\n",
      "オプション\tオプション\tオプション\tオプション-option\t名詞-普通名詞-一般\t\t\t1\n",
      "にて\tニテ\tニテ\tにて\t助詞-格助詞\t\t\t\n",
      ",\t,\t,\t,\t記号-一般\t\t\t0\n",
      "別\tベツ\tベツ\t別\t名詞-普通名詞-形状詞可能\t\t\t0\n",
      "の\tノ\tノ\tの\t助詞-格助詞\t\t\t\n",
      "ファイル\tファイル\tファイル\tファイル-file\t名詞-普通名詞-サ変可能\t\t\t1\n",
      "に\tニ\tニ\tに\t助詞-格助詞\t\t\t\n",
      "結果\tケッカ\tケッカ\t結果\t名詞-普通名詞-副詞可能\t\t\t0,1\n",
      "を\tオ\tヲ\tを\t助詞-格助詞\t\t\t\n",
      "出力\tシュツリョク\tシュツリョク\t出力\t名詞-普通名詞-サ変可能\t\t\t2\n",
      "する\tスル\tスル\t為る\t動詞-非自立可能\tサ行変格\t連体形-一般\t0\n",
      "こと\tコト\tコト\t事\t名詞-普通名詞-一般\t\t\t2\n",
      "も\tモ\tモ\tも\t助詞-係助詞\t\t\t\n",
      "可能\tカノー\tカノウ\t可能\t形状詞-一般\t\t\t0\n",
      "です\tデス\tデス\tです\t助動詞\t助動詞-デス\t終止形-一般\t\n",
      "。\t\t\t。\t補助記号-句点\t\t\t\n",
      "EOS\n",
      "\n"
     ]
    }
   ],
   "source": [
    "print(m1)"
   ]
  },
  {
   "cell_type": "code",
   "execution_count": 10,
   "metadata": {},
   "outputs": [],
   "source": [
    "nouns = \"\"\n",
    "\n",
    "for n in m1.split('\\n'):\n",
    "    t = n.split('\\t')\n",
    "    for u in t:\n",
    "        if \"名詞\" in u:\n",
    "            nouns = nouns + \" \" + t[0]"
   ]
  },
  {
   "cell_type": "code",
   "execution_count": 11,
   "metadata": {},
   "outputs": [
    {
     "data": {
      "text/plain": [
       "' 引数 ファイル ファイル 解析 対象 o オプション 別 ファイル 結果 出力 こと'"
      ]
     },
     "execution_count": 11,
     "metadata": {},
     "output_type": "execute_result"
    }
   ],
   "source": [
    "nouns"
   ]
  },
  {
   "cell_type": "code",
   "execution_count": null,
   "metadata": {},
   "outputs": [],
   "source": []
  }
 ],
 "metadata": {
  "kernelspec": {
   "display_name": "Python 3",
   "language": "python",
   "name": "python3"
  },
  "language_info": {
   "codemirror_mode": {
    "name": "ipython",
    "version": 3
   },
   "file_extension": ".py",
   "mimetype": "text/x-python",
   "name": "python",
   "nbconvert_exporter": "python",
   "pygments_lexer": "ipython3",
   "version": "3.8.5"
  }
 },
 "nbformat": 4,
 "nbformat_minor": 4
}
